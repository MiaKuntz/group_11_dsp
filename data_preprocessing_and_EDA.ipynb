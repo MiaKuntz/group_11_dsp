{
 "cells": [
  {
   "cell_type": "markdown",
   "metadata": {},
   "source": [
    "# Data Preprocessing and Exploratory Data Analysis"
   ]
  },
  {
   "cell_type": "markdown",
   "metadata": {},
   "source": [
    "## Data Preprocessing"
   ]
  },
  {
   "cell_type": "code",
   "execution_count": null,
   "metadata": {},
   "outputs": [],
   "source": [
    "# importing the pandas library to work with the data\n",
    "import pandas as pd"
   ]
  },
  {
   "cell_type": "code",
   "execution_count": null,
   "metadata": {},
   "outputs": [],
   "source": [
    "# reading all flight data files from the csv files\n",
    "data_cph = pd.read_csv(\"flight_data_cph.csv\")\n",
    "data_bll = pd.read_csv(\"flight_data_bll.csv\")\n",
    "data_aar = pd.read_csv(\"flight_data_aar.csv\")\n",
    "\n",
    "# merging all the dataframes into one\n",
    "data = pd.concat([data_cph, data_bll, data_aar])\n",
    "\n",
    "# sorting the data by the 'Departure Time' column\n",
    "data = data.sort_values(by='Departure Time')\n",
    "data"
   ]
  },
  {
   "cell_type": "code",
   "execution_count": null,
   "metadata": {},
   "outputs": [],
   "source": [
    "# checking for missing values in the data \n",
    "print(data.isnull().sum())\n",
    "# luckily, there are no missing values in the data"
   ]
  },
  {
   "cell_type": "code",
   "execution_count": null,
   "metadata": {},
   "outputs": [],
   "source": [
    "# changing column names to make them more readable and easier to work with\n",
    "data.rename(columns={\n",
    "    'Search Date': 'departure_date',\n",
    "    'Airline': 'airline',\n",
    "    'Flight Number': 'flight_number',\n",
    "    'Source City': 'source_city',\n",
    "    'Departure Time': 'departure_time',\n",
    "    'Number of Stops': 'number_of_stops',\n",
    "    'Arrival Time': 'arrival_time',\n",
    "    'Destination City': 'destination_city',\n",
    "    'Duration (Minutes)': 'duration_minutes',\n",
    "    'Price': 'price'\n",
    "}, inplace=True)\n",
    "# changing the names in the 'source_city' columns to their english names\n",
    "data['source_city'] = data['source_city'].str.replace('København', 'Copenhagen')\n",
    "data['source_city'] = data['source_city'].str.replace('Århus', 'Aarhus')\n",
    "data"
   ]
  },
  {
   "cell_type": "code",
   "execution_count": null,
   "metadata": {},
   "outputs": [],
   "source": [
    "# renaming the 'Price' column to 'price_in_DKK'\n",
    "data = data.rename(columns = {'price': 'price_in_DKK'})\n",
    "\n",
    "# removing the \"kr.\" from the 'price_in_DKK' column in each row for easier analysis\n",
    "data['price_in_DKK'] = data['price_in_DKK'].str.replace('kr.', '')\n",
    "\n",
    "# removing the excess decimal point from the 'Flight Price in DKK' column in each row for easier analysis\n",
    "data['price_in_DKK'] = data['price_in_DKK'].str.replace('.', '')"
   ]
  },
  {
   "cell_type": "code",
   "execution_count": null,
   "metadata": {},
   "outputs": [],
   "source": [
    "# checking the data types of each column\n",
    "print(data.dtypes)"
   ]
  },
  {
   "cell_type": "code",
   "execution_count": null,
   "metadata": {},
   "outputs": [],
   "source": [
    "# converting the 'departure_date', 'departure_time', and 'arrival_time' columns to datetime because they are better represented as datetime objects as they are dates and times\n",
    "data[['departure_date', 'departure_time', 'arrival_time']] = data[['departure_date', 'departure_time', 'arrival_time']].apply(pd.to_datetime)\n",
    "# converting 'price_in_DKK' to float because it is a numerical value and should be represented as such\n",
    "data['price_in_DKK'] = data['price_in_DKK'].astype(float)\n",
    "# converting 'flight_number' to string because it is a categorical value and should be represented as such\n",
    "data['flight_number'] = data['flight_number'].astype(str)\n",
    "# converting 'number_of_stops' to string because it is a categorical value and should be represented as such\n",
    "data['number_of_stops'] = data['number_of_stops'].astype(str)\n",
    "# checking the data types of the columns after conversion\n",
    "print(data.dtypes)"
   ]
  },
  {
   "cell_type": "code",
   "execution_count": null,
   "metadata": {},
   "outputs": [],
   "source": [
    "# creating a new column based on which day of the week the flight is on\n",
    "data['day_of_week'] = data['departure_date'].dt.day_name()"
   ]
  },
  {
   "cell_type": "markdown",
   "metadata": {},
   "source": [
    "## EDA"
   ]
  },
  {
   "cell_type": "code",
   "execution_count": null,
   "metadata": {},
   "outputs": [],
   "source": [
    "# importing the necessary libraries for data visualization\n",
    "import matplotlib.pyplot as plt # for plotting\n",
    "import seaborn as sns # for plotting"
   ]
  },
  {
   "cell_type": "markdown",
   "metadata": {},
   "source": [
    "Statistical summary"
   ]
  },
  {
   "cell_type": "code",
   "execution_count": null,
   "metadata": {},
   "outputs": [],
   "source": [
    "# getting the statistical summary of the price_in_DKK and duration_minutes columns\n",
    "data[['price_in_DKK', 'duration_minutes']].describe().round(2)"
   ]
  },
  {
   "cell_type": "code",
   "execution_count": null,
   "metadata": {},
   "outputs": [],
   "source": [
    "# checking the 90% quantile of the 'price_in_DKK' column\n",
    "price_quantile = data['price_in_DKK'].quantile(0.90)\n",
    "price_quantile"
   ]
  },
  {
   "cell_type": "code",
   "execution_count": null,
   "metadata": {},
   "outputs": [],
   "source": [
    "# checking the 90% quantile of the 'duration_minutes' column\n",
    "duration_quantile = data['duration_minutes'].quantile(0.90)\n",
    "duration_quantile"
   ]
  },
  {
   "cell_type": "code",
   "execution_count": null,
   "metadata": {},
   "outputs": [],
   "source": [
    "# removing the outliers from the 'price_in_DKK' column based on the 90% quantile\n",
    "data = data[data['price_in_DKK'] <= price_quantile]\n",
    "# removing the outliers from the 'duration_minutes' column based on the 90% quantile\n",
    "data = data[data['duration_minutes'] <= duration_quantile]\n",
    "# checking the statistical summary of the 'price_in_DKK' and 'duration_minutes' columns after removing the outliers\n",
    "data[['price_in_DKK', 'duration_minutes']].describe().round(2)"
   ]
  },
  {
   "cell_type": "markdown",
   "metadata": {},
   "source": [
    "Plot of the number of departures from each city"
   ]
  },
  {
   "cell_type": "code",
   "execution_count": null,
   "metadata": {},
   "outputs": [],
   "source": [
    "# calculating the number of flights from each city\n",
    "source_city_counts = data['source_city'].value_counts()\n",
    "\n",
    "# plotting number of departures from each city\n",
    "plt.figure(figsize=(8, 6))\n",
    "plt.bar(source_city_counts.index, source_city_counts)\n",
    "plt.title('Count Plot of City')\n",
    "plt.xlabel('City')\n",
    "plt.ylabel('Count')\n",
    "plt.show()"
   ]
  },
  {
   "cell_type": "markdown",
   "metadata": {},
   "source": [
    "Plot of the number of departures from each airline"
   ]
  },
  {
   "cell_type": "code",
   "execution_count": null,
   "metadata": {},
   "outputs": [],
   "source": [
    "# calculating the number of flights from each airline\n",
    "airline_counts = data['airline'].value_counts()\n",
    "\n",
    "# plotting number of departures from each airline (inlcuding only the top 10 airlines)\n",
    "plt.figure(figsize=(12, 6)) # changing the size of this plot for the airlines not to overlap\n",
    "plt.bar(airline_counts.index[:10], airline_counts[:10])\n",
    "plt.title('Count Plot of Airline')\n",
    "plt.xlabel('Airline')\n",
    "plt.xticks(rotation=45)\n",
    "plt.ylabel('Count')\n",
    "plt.show()"
   ]
  },
  {
   "cell_type": "markdown",
   "metadata": {},
   "source": [
    "Plot of the number of departures on each weekday"
   ]
  },
  {
   "cell_type": "code",
   "execution_count": null,
   "metadata": {},
   "outputs": [],
   "source": [
    "# calculating the number of flights from each day of the week\n",
    "day_of_week_counts = data['day_of_week'].value_counts()\n",
    "\n",
    "# plotting number of departures from each day of the week\n",
    "plt.figure(figsize=(8, 6))\n",
    "day_of_week_counts = day_of_week_counts.reindex(['Monday', 'Tuesday', 'Wednesday', 'Thursday', 'Friday', 'Saturday', 'Sunday'])\n",
    "plt.bar(day_of_week_counts.index, day_of_week_counts)\n",
    "plt.title('Count Plot of Day of the Week')\n",
    "plt.xlabel('Day of the Week')\n",
    "plt.ylabel('Count')\n",
    "plt.show()"
   ]
  },
  {
   "cell_type": "markdown",
   "metadata": {},
   "source": [
    "Plotting the distribution of the number of stops"
   ]
  },
  {
   "cell_type": "code",
   "execution_count": null,
   "metadata": {},
   "outputs": [],
   "source": [
    "# calculating the number of flights with different number of stops\n",
    "number_of_stops_counts = data['number_of_stops'].value_counts()\n",
    "\n",
    "# plotting number of departures with different number of stops in the order 0, 1, 2\n",
    "plt.figure(figsize=(8, 6))\n",
    "number_of_stops_counts = number_of_stops_counts.reindex(['0', '1', '2'])\n",
    "plt.bar(number_of_stops_counts.index, number_of_stops_counts)\n",
    "plt.title('Count Plot of Number of Stops')\n",
    "plt.xlabel('Number of Stops')\n",
    "plt.ylabel('Count')\n",
    "plt.show()"
   ]
  },
  {
   "cell_type": "markdown",
   "metadata": {},
   "source": [
    "Plotting the number of stops per airport"
   ]
  },
  {
   "cell_type": "code",
   "execution_count": null,
   "metadata": {},
   "outputs": [],
   "source": [
    "# plotting the number of stops in accordance with the airpot of departure to see which airports have the most number of stops\n",
    "plt.figure(figsize=(12, 6))\n",
    "sns.countplot(data=data, x='source_city', hue='number_of_stops')\n",
    "plt.title('Count Plot of Number of Stops by Source City')\n",
    "plt.xlabel('Source City')\n",
    "plt.ylabel('Count')\n",
    "plt.show()"
   ]
  },
  {
   "cell_type": "markdown",
   "metadata": {},
   "source": [
    "Boxplot for airline and price "
   ]
  },
  {
   "cell_type": "code",
   "execution_count": null,
   "metadata": {},
   "outputs": [],
   "source": [
    "# plotting the distribution of flight prices by source city\n",
    "plt.figure(figsize=(12, 8)) # adjusting the figure size if needed\n",
    "sns.boxplot(x='source_city', y='price_in_DKK', data=data)\n",
    "plt.title('Boxplot of Price by Source City')\n",
    "plt.xlabel('Source City')\n",
    "plt.ylabel('Price in DKK')\n",
    "plt.xticks(rotation=45) # rotating the x-axis labels for better readability\n",
    "plt.show()"
   ]
  },
  {
   "cell_type": "markdown",
   "metadata": {},
   "source": [
    "Line plot for weekdays and price"
   ]
  },
  {
   "cell_type": "code",
   "execution_count": null,
   "metadata": {},
   "outputs": [],
   "source": [
    "# calculating the average price of flights by day of the week\n",
    "average_prices = data.groupby('day_of_week')['price_in_DKK'].mean()\n",
    "\n",
    "# setting the order of the weekdays and reindexing the data, while making sure that they are paired with the average price for the given day\n",
    "weekday_order = ['Monday', 'Tuesday', 'Wednesday', 'Thursday', 'Friday', 'Saturday', 'Sunday']\n",
    "average_prices = average_prices.reindex(weekday_order)\n",
    "\n",
    "# plotting the average price of flights by day of the week\n",
    "plt.figure(figsize=(10, 6)) # adjusting the figure size if needed\n",
    "plt.plot(list(average_prices.index), average_prices.values, marker='o', linestyle='-')\n",
    "plt.title('Average Price by Weekday')\n",
    "plt.xlabel('Weekday')\n",
    "plt.ylabel('Average Price in DKK')\n",
    "plt.xticks(rotation=45) # rotating x-axis labels for better readability\n",
    "plt.grid(True) # adding grid lines for better visualization\n",
    "plt.show()"
   ]
  },
  {
   "cell_type": "markdown",
   "metadata": {},
   "source": [
    "Scatter plot for departure time and price "
   ]
  },
  {
   "cell_type": "code",
   "execution_count": null,
   "metadata": {},
   "outputs": [],
   "source": [
    "# plotting the price trend by departure time\n",
    "plt.figure(figsize=(12, 6)) # adjusting the figure size if needed\n",
    "plt.scatter(data['departure_time'], data['price_in_DKK'])\n",
    "plt.title('Scatter Plot of Price by Departure Time')\n",
    "plt.xlabel('Departure Time')\n",
    "plt.ylabel('Price in DKK')\n",
    "plt.xticks(rotation=45) # rotating x-axis labels for better readability\n",
    "plt.show()\n"
   ]
  },
  {
   "cell_type": "markdown",
   "metadata": {},
   "source": [
    "Correlation matrix"
   ]
  },
  {
   "cell_type": "code",
   "execution_count": null,
   "metadata": {},
   "outputs": [],
   "source": [
    "# selecting only the numerical columns\n",
    "numerical_data = data.select_dtypes(include='number')\n",
    "\n",
    "# plotting the correlation heatmap using only numerical data\n",
    "plt.figure(figsize=(15, 10))\n",
    "sns.heatmap(numerical_data.corr(), annot=True, fmt='.2f', cmap='Pastel2', linewidths=2)\n",
    "plt.title('Correlation Heatmap (Numerical Data Only)')\n",
    "plt.show()"
   ]
  },
  {
   "cell_type": "markdown",
   "metadata": {},
   "source": [
    "## Feature Engineering"
   ]
  },
  {
   "cell_type": "code",
   "execution_count": null,
   "metadata": {},
   "outputs": [],
   "source": [
    "# dropping the 'flight_number' column from the data\n",
    "data = data.drop(columns=['flight_number'])\n",
    "# dropping the 'destination_city' column from the data\n",
    "data = data.drop(columns=['destination_city'])"
   ]
  },
  {
   "cell_type": "code",
   "execution_count": null,
   "metadata": {},
   "outputs": [],
   "source": [
    "# lumping all the airlines with less than 25 flights into the 'Other' category\n",
    "airline_counts = data['airline'].value_counts()\n",
    "other_airlines = airline_counts[airline_counts < 25].index\n",
    "data['airline'] = data['airline'].replace(other_airlines, 'Other')"
   ]
  },
  {
   "cell_type": "code",
   "execution_count": null,
   "metadata": {},
   "outputs": [],
   "source": [
    "# creating a new column 'price_above_average' that indicates whether the price of the flight is above average\n",
    "data['price_above_average'] = data['price_in_DKK'] > data['price_in_DKK'].mean()\n",
    "# dropping the 'price_in_DKK' column from the data\n",
    "data = data.drop(columns=['price_in_DKK'])"
   ]
  },
  {
   "cell_type": "code",
   "execution_count": null,
   "metadata": {},
   "outputs": [],
   "source": [
    "# checking the distribution of the 'price_above_average' column in percentages in order to better be able to assess the accuracy of the model\n",
    "price_above_average_distribution = data['price_above_average'].value_counts(normalize=True) * 100\n",
    "price_above_average_distribution"
   ]
  },
  {
   "cell_type": "code",
   "execution_count": null,
   "metadata": {},
   "outputs": [],
   "source": [
    "# creating a new column based on the number of days between the departure date and 2024-04-28\n",
    "data['days_to_departure'] = (pd.to_datetime('2024-04-28') - data['departure_date']).dt.days\n",
    "# multiplying the 'days_to_departure' column by -1 to make the values positive\n",
    "data['days_to_departure'] = data['days_to_departure'] * -1\n",
    "# dropping the 'departure_date' column as it is no longer needed\n",
    "data = data.drop(columns=['departure_date'])"
   ]
  },
  {
   "cell_type": "code",
   "execution_count": null,
   "metadata": {},
   "outputs": [],
   "source": [
    "# creating a column based on the time of the day the flight is on (morning, afternoon, evening, or night)\n",
    "data['time_of_day'] = pd.cut(data['departure_time'].dt.hour, bins=[0, 6, 12, 18, 24], labels=['night', 'morning', 'afternoon', 'evening'])\n",
    "# dropping the 'departure_time' and 'arrival_time' columns as they are no longer needed\n",
    "data = data.drop(columns=['departure_time', 'arrival_time'])"
   ]
  },
  {
   "cell_type": "code",
   "execution_count": null,
   "metadata": {},
   "outputs": [],
   "source": [
    "# one hot encoding the categorical columns\n",
    "data = pd.get_dummies(data)\n",
    "data"
   ]
  },
  {
   "cell_type": "code",
   "execution_count": null,
   "metadata": {},
   "outputs": [],
   "source": [
    "# saving the cleaned data to a new csv file\n",
    "data.to_csv('cleaned_flight_data.csv', index=False)"
   ]
  }
 ],
 "metadata": {
  "kernelspec": {
   "display_name": "Python 3",
   "language": "python",
   "name": "python3"
  },
  "language_info": {
   "codemirror_mode": {
    "name": "ipython",
    "version": 3
   },
   "file_extension": ".py",
   "mimetype": "text/x-python",
   "name": "python",
   "nbconvert_exporter": "python",
   "pygments_lexer": "ipython3",
   "version": "3.11.1"
  }
 },
 "nbformat": 4,
 "nbformat_minor": 2
}
