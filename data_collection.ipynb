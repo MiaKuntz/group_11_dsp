{
 "cells": [
  {
   "cell_type": "markdown",
   "metadata": {},
   "source": [
    "# Data collection using an API"
   ]
  },
  {
   "cell_type": "code",
   "execution_count": 1,
   "metadata": {},
   "outputs": [],
   "source": [
    "# impprting the necessary libraries \n",
    "import requests # importing the requests library to make the API call to the server\n",
    "import datetime # importing the datetime library to work with the date and time\n",
    "from datetime import datetime, timedelta # importing the datetime and timedelta from the datetime library\n",
    "import csv # importing the csv library to work with the csv files"
   ]
  },
  {
   "cell_type": "code",
   "execution_count": 2,
   "metadata": {},
   "outputs": [],
   "source": [
    "# creating a dictionary to store the environment variables\n",
    "my_dict = {}\n",
    "\n",
    "# reading the api key from the .env file\n",
    "with open(\".env\", \"r\") as f:\n",
    "    for line in f:\n",
    "        key,val = line.split('=')\n",
    "        my_dict[key.strip()] = val.strip()\n",
    "\n",
    "# storing the api key in a variable\n",
    "api_key = my_dict['api_key']"
   ]
  },
  {
   "cell_type": "code",
   "execution_count": 3,
   "metadata": {},
   "outputs": [],
   "source": [
    "# setting the url and headers for the request\n",
    "url = \"https://skyscanner80.p.rapidapi.com/api/v1/flights/search-one-way\"\n",
    "headers = {\n",
    "    \"X-RapidAPI-Key\": api_key,  \n",
    "    \"X-RapidAPI-Host\": \"skyscanner80.p.rapidapi.com\"\n",
    "}\n",
    "\n",
    "# creating a csv file to store the data\n",
    "csv_file_name = 'flight_data_aar.csv'\n",
    "\n",
    "# writing the headers to the csv file\n",
    "with open(csv_file_name, 'w', newline='') as file:\n",
    "    writer = csv.writer(file)\n",
    "    writer.writerow(['Search Date', 'Airline', 'Flight Number', 'Source City', 'Departure Time', 'Number of Stops', 'Arrival Time', 'Destination City', 'Duration (Minutes)', 'Price'])\n",
    "\n",
    "    # using today's date as the starting point\n",
    "    start_date = datetime.now()\n",
    "\n",
    "    # looping over the next 30 days\n",
    "    for offset in range(30):\n",
    "        # calculing the date for the current iteration\n",
    "        depart_date = start_date + timedelta(days=offset)\n",
    "        # formatting the date in YYYY-MM-DD format\n",
    "        formatted_date = depart_date.strftime('%Y-%m-%d')\n",
    "\n",
    "        # updating the query string with the new date\n",
    "        querystring = {\n",
    "            \"fromId\": \"eyJzIjoiQUFSIiwiZSI6Ijk1NjczOTg3IiwiaCI6IjI3NTQ3NDY0In0=\",\n",
    "            \"toId\": \"eyJzIjoiTE9ORCIsImUiOiIyNzU0NDAwOCIsImgiOiIyNzU0NDAwOCJ9\",\n",
    "            \"departDate\": formatted_date,\n",
    "            \"adults\": \"1\",\n",
    "            \"currency\": \"DKK\",\n",
    "            \"market\": \"DK\",\n",
    "            \"locale\": \"da-DK\"\n",
    "        }\n",
    "\n",
    "        # making the request\n",
    "        response = requests.get(url, headers=headers, params=querystring)\n",
    "        \n",
    "        # checking if the request was successful\n",
    "        if response.status_code == 200:\n",
    "            data = response.json()\n",
    "            itineraries = data['data']['itineraries'] if 'data' in data and 'itineraries' in data['data'] else []\n",
    "\n",
    "            # processing each itinerary\n",
    "            for itinerary in itineraries:\n",
    "                price = itinerary['price']['formatted']\n",
    "                for leg in itinerary['legs']:\n",
    "                    airline = leg['carriers']['marketing'][0]['name']\n",
    "                    flight_number = leg['segments'][0]['flightNumber']\n",
    "                    source_city = leg['origin']['city']\n",
    "                    departure_time = leg['departure']\n",
    "                    number_of_stops = leg['stopCount']\n",
    "                    arrival_time = leg['arrival']\n",
    "                    destination_city = leg['destination']['city']\n",
    "                    duration = leg['durationInMinutes']\n",
    "\n",
    "                    # writing the details to the CSV\n",
    "                    writer.writerow([formatted_date, airline, flight_number, source_city, departure_time, number_of_stops, arrival_time, destination_city, duration, price])\n",
    "        else:\n",
    "            # printing an error message if the request was not successful\n",
    "            print(f\"Failed to fetch data for {formatted_date}: {response.status_code}\")"
   ]
  }
 ],
 "metadata": {
  "kernelspec": {
   "display_name": "Python 3",
   "language": "python",
   "name": "python3"
  },
  "language_info": {
   "codemirror_mode": {
    "name": "ipython",
    "version": 3
   },
   "file_extension": ".py",
   "mimetype": "text/x-python",
   "name": "python",
   "nbconvert_exporter": "python",
   "pygments_lexer": "ipython3",
   "version": "3.11.1"
  }
 },
 "nbformat": 4,
 "nbformat_minor": 2
}
